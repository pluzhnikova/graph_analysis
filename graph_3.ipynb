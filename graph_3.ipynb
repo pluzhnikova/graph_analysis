{
  "nbformat": 4,
  "nbformat_minor": 0,
  "metadata": {
    "colab": {
      "provenance": []
    },
    "kernelspec": {
      "name": "python3",
      "display_name": "Python 3"
    },
    "language_info": {
      "name": "python"
    }
  },
  "cells": [
    {
      "cell_type": "markdown",
      "source": [
        "Плужникова Анастасия Дмитриевна, s4101"
      ],
      "metadata": {
        "id": "9AJEnUOXZHKQ"
      }
    },
    {
      "cell_type": "code",
      "execution_count": 1,
      "metadata": {
        "colab": {
          "base_uri": "https://localhost:8080/"
        },
        "id": "tlZ3VHDf1mgb",
        "outputId": "13e33e1c-3713-4027-9bd4-5917c90c2006",
        "collapsed": true
      },
      "outputs": [
        {
          "output_type": "stream",
          "name": "stdout",
          "text": [
            "Collecting python-graphblas[default]\n",
            "  Downloading python_graphblas-2024.2.0-py3-none-any.whl (350 kB)\n",
            "\u001b[2K     \u001b[90m━━━━━━━━━━━━━━━━━━━━━━━━━━━━━━━━━━━━━━━━\u001b[0m \u001b[32m350.9/350.9 kB\u001b[0m \u001b[31m4.2 MB/s\u001b[0m eta \u001b[36m0:00:00\u001b[0m\n",
            "\u001b[?25hRequirement already satisfied: numpy>=1.22 in /usr/local/lib/python3.10/dist-packages (from python-graphblas[default]) (1.25.2)\n",
            "Collecting donfig>=0.6 (from python-graphblas[default])\n",
            "  Downloading donfig-0.8.1.post1-py3-none-any.whl (21 kB)\n",
            "Requirement already satisfied: pyyaml>=5.4 in /usr/local/lib/python3.10/dist-packages (from python-graphblas[default]) (6.0.1)\n",
            "Collecting suitesparse-graphblas<9,>=7.4.0.0 (from python-graphblas[default])\n",
            "  Downloading suitesparse_graphblas-8.2.1.0-cp310-cp310-manylinux_2_17_x86_64.manylinux2014_x86_64.whl (45.7 MB)\n",
            "\u001b[2K     \u001b[90m━━━━━━━━━━━━━━━━━━━━━━━━━━━━━━━━━━━━━━━━\u001b[0m \u001b[32m45.7/45.7 MB\u001b[0m \u001b[31m7.7 MB/s\u001b[0m eta \u001b[36m0:00:00\u001b[0m\n",
            "\u001b[?25hRequirement already satisfied: numba>=0.55 in /usr/local/lib/python3.10/dist-packages (from python-graphblas[default]) (0.58.1)\n",
            "Requirement already satisfied: llvmlite<0.42,>=0.41.0dev0 in /usr/local/lib/python3.10/dist-packages (from numba>=0.55->python-graphblas[default]) (0.41.1)\n",
            "Requirement already satisfied: cffi>=1.11 in /usr/local/lib/python3.10/dist-packages (from suitesparse-graphblas<9,>=7.4.0.0->python-graphblas[default]) (1.16.0)\n",
            "Requirement already satisfied: pandas>=1.2 in /usr/local/lib/python3.10/dist-packages (from python-graphblas[default]) (2.0.3)\n",
            "Requirement already satisfied: scipy>=1.9 in /usr/local/lib/python3.10/dist-packages (from python-graphblas[default]) (1.11.4)\n",
            "Requirement already satisfied: pycparser in /usr/local/lib/python3.10/dist-packages (from cffi>=1.11->suitesparse-graphblas<9,>=7.4.0.0->python-graphblas[default]) (2.22)\n",
            "Requirement already satisfied: python-dateutil>=2.8.2 in /usr/local/lib/python3.10/dist-packages (from pandas>=1.2->python-graphblas[default]) (2.8.2)\n",
            "Requirement already satisfied: pytz>=2020.1 in /usr/local/lib/python3.10/dist-packages (from pandas>=1.2->python-graphblas[default]) (2023.4)\n",
            "Requirement already satisfied: tzdata>=2022.1 in /usr/local/lib/python3.10/dist-packages (from pandas>=1.2->python-graphblas[default]) (2024.1)\n",
            "Requirement already satisfied: six>=1.5 in /usr/local/lib/python3.10/dist-packages (from python-dateutil>=2.8.2->pandas>=1.2->python-graphblas[default]) (1.16.0)\n",
            "Installing collected packages: donfig, suitesparse-graphblas, python-graphblas\n",
            "Successfully installed donfig-0.8.1.post1 python-graphblas-2024.2.0 suitesparse-graphblas-8.2.1.0\n"
          ]
        }
      ],
      "source": [
        "! pip install python-graphblas[default]"
      ]
    },
    {
      "cell_type": "code",
      "source": [
        "import numpy as np\n",
        "import pandas as pd\n",
        "import networkx as nx\n",
        "import matplotlib.pyplot as plt\n",
        "import graphblas as gb\n",
        "from graphblas import Matrix, Vector, Scalar\n",
        "from graphblas import dtypes\n",
        "from graphblas import unary, binary, monoid, semiring\n",
        "from graphblas.io import mmread\n",
        "import timeit\n",
        "import random"
      ],
      "metadata": {
        "id": "8LKJtBMi17xm"
      },
      "execution_count": 2,
      "outputs": []
    },
    {
      "cell_type": "markdown",
      "source": [
        "# Реализация функций и проверка корректности (п 1-4)"
      ],
      "metadata": {
        "id": "C8QSkEtGIJWp"
      }
    },
    {
      "cell_type": "code",
      "source": [
        "def SSSP(A, source):\n",
        "    n = A.nrows\n",
        "    w = Vector(A.dtype, A.nrows)\n",
        "    w[source] << 0\n",
        "    for k in range (n-2):\n",
        "        w_old = w.dup()\n",
        "        w(binary.min) << w.vxm(A, semiring.min_plus)\n",
        "        if w.isequal(w_old):\n",
        "            break\n",
        "    # Вывод\n",
        "    res = []\n",
        "    for i in range(n):\n",
        "        res.append(w[i].value)\n",
        "    return [ float('inf') if r is None else r for r in res]"
      ],
      "metadata": {
        "id": "kgzBoG_419R1"
      },
      "execution_count": 37,
      "outputs": []
    },
    {
      "cell_type": "code",
      "source": [
        "def MSSP(A, sources):\n",
        "      n = A.nrows\n",
        "      v = gb.Matrix(A.dtype, len(sources), n)\n",
        "      for i, source in enumerate(sources):\n",
        "        v[ i, source] << 0\n",
        "      w = v.dup()\n",
        "      for k in range (n-2):\n",
        "          w_old = w.dup()\n",
        "          w(binary.min) << w.mxm(A, semiring.min_plus)\n",
        "          if w.isequal(w_old):\n",
        "              break\n",
        "      # Вывод\n",
        "      res = []\n",
        "      for j in range(len(sources)):\n",
        "        res_r = []\n",
        "        for i in range(n):\n",
        "            res_r.append(w[j,i].value)\n",
        "        res_r = [float('inf') if r is None else r for r in res_r]\n",
        "        res.append([sources[j], res_r])\n",
        "      return res"
      ],
      "metadata": {
        "id": "6Yv65Gnu4CpF"
      },
      "execution_count": 41,
      "outputs": []
    },
    {
      "cell_type": "code",
      "source": [
        "def APSP(A):\n",
        "    n = A.nrows\n",
        "    D = A.dup()\n",
        "    for i in range(n):\n",
        "        D[i, i] << 0\n",
        "\n",
        "    for k in range(n):\n",
        "        for i in range(n):\n",
        "            for j in range(n):\n",
        "              D_old = D.dup()\n",
        "              D(binary.min) << D.mxm(A, semiring.min_plus)\n",
        "              if D.isequal(D_old):\n",
        "                break\n",
        "    # Вывод\n",
        "    res = []\n",
        "    for j in range(n):\n",
        "        res_r = []\n",
        "        for i in range(n):\n",
        "            res_r.append(D[j,i].value)\n",
        "        res_r = [float('inf') if r is None else r for r in res_r]\n",
        "        res.append([j, res_r])\n",
        "    return res"
      ],
      "metadata": {
        "id": "zQMbOHYp9RuU"
      },
      "execution_count": 45,
      "outputs": []
    },
    {
      "cell_type": "code",
      "source": [
        "def APSP_trans(A):\n",
        "  n = A.nrows\n",
        "  D = A.dup()\n",
        "  I = Matrix(bool, n, n)\n",
        "  for i in range(n):\n",
        "      I[i, i] = False\n",
        "  for k in range (n):\n",
        "      D_old = D.dup()\n",
        "      D << D.mxm(A, semiring.min_plus).ewise_add(I, op='min')\n",
        "      if D.isequal(D_old):\n",
        "          break\n",
        "\n",
        "  # Вывод\n",
        "      res = []\n",
        "  for j in range(n):\n",
        "        res_r = []\n",
        "        for i in range(n):\n",
        "            res_r.append(D[j,i].value)\n",
        "        res_r = [float('inf') if r is None else r for r in res_r]\n",
        "        res.append([j, res_r])\n",
        "  return res"
      ],
      "metadata": {
        "id": "z9VPo8iKMG9D"
      },
      "execution_count": 47,
      "outputs": []
    },
    {
      "cell_type": "markdown",
      "source": [
        "Проверим корректность на трёх матрицах"
      ],
      "metadata": {
        "id": "x4YnQE13JZCR"
      }
    },
    {
      "cell_type": "code",
      "source": [
        "data = [\n",
        "    [3, 0, 3, 5, 6, 0, 6, 1, 6, 2, 4, 1],\n",
        "    [0, 1, 2, 2, 2, 3, 3, 4, 4, 5, 5, 6],\n",
        "    [3, 2, 3, 1, 5, 3, 7, 8, 3, 1, 7, 4],\n",
        "]\n",
        "rows, cols, weights = data\n",
        "m = Matrix.from_coo(rows, cols, weights)\n",
        "m"
      ],
      "metadata": {
        "colab": {
          "base_uri": "https://localhost:8080/",
          "height": 339
        },
        "id": "OPlpnUfg5tpF",
        "outputId": "23b0cd41-2185-4012-98ce-be5965c6ba45"
      },
      "execution_count": 7,
      "outputs": [
        {
          "output_type": "execute_result",
          "data": {
            "text/plain": [
              "\"M_0\"      nvals  nrows  ncols  dtype   format\n",
              "gb.Matrix     12      7      7  INT64  bitmapr\n",
              "----------------------------------------------\n",
              "   0  1  2  3  4  5  6\n",
              "0     2     3         \n",
              "1              8     4\n",
              "2                 1   \n",
              "3  3     3            \n",
              "4                 7   \n",
              "5        1            \n",
              "6        5  7  3      "
            ],
            "text/html": [
              "<div>\n",
              "<style>\n",
              "table.gb-info-table {\n",
              "    border: 1px solid black;\n",
              "    max-width: 100%;\n",
              "    margin-top: 0px;\n",
              "    margin-bottom: 0px;\n",
              "    padding-top: 0px;\n",
              "    padding-bottom: 0px;\n",
              "}\n",
              "\n",
              "td.gb-info-name-cell {\n",
              "    white-space: nowrap;\n",
              "}\n",
              "\n",
              "details.gb-arg-details {\n",
              "    margin-top: 0px;\n",
              "    margin-bottom: 0px;\n",
              "    padding-top: 0px;\n",
              "    padding-bottom: 5px;\n",
              "    margin-left: 10px;\n",
              "}\n",
              "\n",
              "summary.gb-arg-summary {\n",
              "    display: list-item;\n",
              "    outline: none;\n",
              "    margin-top: 0px;\n",
              "    margin-bottom: 0px;\n",
              "    padding-top: 0px;\n",
              "    padding-bottom: 0px;\n",
              "    margin-left: -10px;\n",
              "}\n",
              "\n",
              "details.gb-expr-details {\n",
              "    margin-top: 0px;\n",
              "    margin-bottom: 0px;\n",
              "    padding-top: 0px;\n",
              "    padding-bottom: 5px;\n",
              "}\n",
              "\n",
              "summary.gb-expr-summary {\n",
              "    display: list-item;\n",
              "    outline: none;\n",
              "    margin-top: 0px;\n",
              "    margin-bottom: 0px;\n",
              "    padding-top: 0px;\n",
              "    padding-bottom: 0px;\n",
              "}\n",
              "\n",
              "blockquote.gb-expr-blockquote {\n",
              "    margin-top: 5px;\n",
              "    margin-bottom: 0px;\n",
              "    padding-top: 0px;\n",
              "    padding-bottom: 0px;\n",
              "    margin-left: 15px;\n",
              "}\n",
              "\n",
              ".gb-scalar {\n",
              "    margin-top: 0px;\n",
              "    margin-bottom: 0px;\n",
              "    padding-top: 0px;\n",
              "    padding-bottom: 5px;\n",
              "}\n",
              "\n",
              "/* modify pandas dataframe */\n",
              "table.dataframe {\n",
              "    margin-top: 0px;\n",
              "    margin-bottom: 0px;\n",
              "    padding-top: 0px;\n",
              "    padding-bottom: 0px;\n",
              "}\n",
              "\n",
              "/* expression tooltips */\n",
              ".expr-tooltip .tooltip-circle {\n",
              "    background: #9a9cc6;\n",
              "    color: #fff;\n",
              "    border-radius: 50%;\n",
              "    width: 40px;\n",
              "    height: 40px;\n",
              "    padding-left: 4px;\n",
              "    padding-right: 4px;\n",
              "}\n",
              ".expr-tooltip .tooltip-text {\n",
              "    visibility: hidden;\n",
              "    position: absolute;\n",
              "    width: 450px;\n",
              "    background: #eef;\n",
              "    border: 1px solid #99a;\n",
              "    text-align: left;\n",
              "    border-radius: 6px;\n",
              "    padding: 3px 3px 3px 8px;\n",
              "    margin-left: 6px;\n",
              "}\n",
              ".expr-tooltip:hover .tooltip-text {\n",
              "    visibility: visible;\n",
              "}\n",
              ".expr-tooltip code {\n",
              "    background-color: #f8ffed;\n",
              "}\n",
              "</style>\n",
              "<details open class=\"gb-arg-details\"><summary class=\"gb-arg-summary\"><tt>M<sub>0</sub></tt><div>\n",
              "<table class=\"gb-info-table\">\n",
              "  <tr>\n",
              "    <td rowspan=\"2\" class=\"gb-info-name-cell\"><pre>gb.Matrix</pre></td>\n",
              "    <td><pre>nvals</pre></td>\n",
              "    <td><pre>nrows</pre></td>\n",
              "    <td><pre>ncols</pre></td>\n",
              "    <td><pre>dtype</pre></td>\n",
              "    <td><pre>format</pre></td>\n",
              "  </tr>\n",
              "  <tr>\n",
              "    <td>12</td>\n",
              "    <td>7</td>\n",
              "    <td>7</td>\n",
              "    <td>INT64</td>\n",
              "    <td>bitmapr</td>\n",
              "  </tr>\n",
              "</table>\n",
              "</div>\n",
              "</summary><div>\n",
              "<style scoped>\n",
              "    .dataframe tbody tr th:only-of-type {\n",
              "        vertical-align: middle;\n",
              "    }\n",
              "\n",
              "    .dataframe tbody tr th {\n",
              "        vertical-align: top;\n",
              "    }\n",
              "\n",
              "    .dataframe thead th {\n",
              "        text-align: right;\n",
              "    }\n",
              "</style>\n",
              "<table border=\"1\" class=\"dataframe\">\n",
              "  <thead>\n",
              "    <tr style=\"text-align: right;\">\n",
              "      <th></th>\n",
              "      <th>0</th>\n",
              "      <th>1</th>\n",
              "      <th>2</th>\n",
              "      <th>3</th>\n",
              "      <th>4</th>\n",
              "      <th>5</th>\n",
              "      <th>6</th>\n",
              "    </tr>\n",
              "  </thead>\n",
              "  <tbody>\n",
              "    <tr>\n",
              "      <th>0</th>\n",
              "      <td></td>\n",
              "      <td>2</td>\n",
              "      <td></td>\n",
              "      <td>3</td>\n",
              "      <td></td>\n",
              "      <td></td>\n",
              "      <td></td>\n",
              "    </tr>\n",
              "    <tr>\n",
              "      <th>1</th>\n",
              "      <td></td>\n",
              "      <td></td>\n",
              "      <td></td>\n",
              "      <td></td>\n",
              "      <td>8</td>\n",
              "      <td></td>\n",
              "      <td>4</td>\n",
              "    </tr>\n",
              "    <tr>\n",
              "      <th>2</th>\n",
              "      <td></td>\n",
              "      <td></td>\n",
              "      <td></td>\n",
              "      <td></td>\n",
              "      <td></td>\n",
              "      <td>1</td>\n",
              "      <td></td>\n",
              "    </tr>\n",
              "    <tr>\n",
              "      <th>3</th>\n",
              "      <td>3</td>\n",
              "      <td></td>\n",
              "      <td>3</td>\n",
              "      <td></td>\n",
              "      <td></td>\n",
              "      <td></td>\n",
              "      <td></td>\n",
              "    </tr>\n",
              "    <tr>\n",
              "      <th>4</th>\n",
              "      <td></td>\n",
              "      <td></td>\n",
              "      <td></td>\n",
              "      <td></td>\n",
              "      <td></td>\n",
              "      <td>7</td>\n",
              "      <td></td>\n",
              "    </tr>\n",
              "    <tr>\n",
              "      <th>5</th>\n",
              "      <td></td>\n",
              "      <td></td>\n",
              "      <td>1</td>\n",
              "      <td></td>\n",
              "      <td></td>\n",
              "      <td></td>\n",
              "      <td></td>\n",
              "    </tr>\n",
              "    <tr>\n",
              "      <th>6</th>\n",
              "      <td></td>\n",
              "      <td></td>\n",
              "      <td>5</td>\n",
              "      <td>7</td>\n",
              "      <td>3</td>\n",
              "      <td></td>\n",
              "      <td></td>\n",
              "    </tr>\n",
              "  </tbody>\n",
              "</table>\n",
              "</div></details></div>"
            ]
          },
          "metadata": {},
          "execution_count": 7
        }
      ]
    },
    {
      "cell_type": "code",
      "source": [
        "gb.viz.draw(m)"
      ],
      "metadata": {
        "colab": {
          "base_uri": "https://localhost:8080/",
          "height": 406
        },
        "id": "Tn9GdRcT8SR9",
        "outputId": "9c4f31b9-613c-4e48-c95a-304856d79591"
      },
      "execution_count": 8,
      "outputs": [
        {
          "output_type": "display_data",
          "data": {
            "text/plain": [
              "<Figure size 640x480 with 1 Axes>"
            ],
            "image/png": "[encoded data removed]"
          },
          "metadata": {}
        }
      ]
    },
    {
      "cell_type": "code",
      "source": [
        "print(SSSP(m, 1))"
      ],
      "metadata": {
        "colab": {
          "base_uri": "https://localhost:8080/"
        },
        "id": "WFt8d3sp5zjP",
        "outputId": "6e4c7c9e-d027-4514-a837-fbd4cef3bbf9"
      },
      "execution_count": 40,
      "outputs": [
        {
          "output_type": "stream",
          "name": "stdout",
          "text": [
            "[14, 0, 9, 11, 7, 10, 4]\n"
          ]
        }
      ]
    },
    {
      "cell_type": "code",
      "source": [
        "print(*MSSP(m, [1, 2]), sep = \"\\n\")"
      ],
      "metadata": {
        "colab": {
          "base_uri": "https://localhost:8080/"
        },
        "id": "rG0Rm2SW8Kxk",
        "outputId": "fb932d1e-1f6c-4b57-ced4-5fc987ecd226"
      },
      "execution_count": 44,
      "outputs": [
        {
          "output_type": "stream",
          "name": "stdout",
          "text": [
            "[1, [14, 0, 9, 11, 7, 10, 4]]\n",
            "[2, [inf, inf, 0, inf, inf, 1, inf]]\n"
          ]
        }
      ]
    },
    {
      "cell_type": "code",
      "source": [
        "print(*APSP(m), sep = \"\\n\")"
      ],
      "metadata": {
        "colab": {
          "base_uri": "https://localhost:8080/"
        },
        "id": "oCsoQjHrBO7M",
        "outputId": "2a5e6c77-322b-48d0-9631-03adb1bf3d60"
      },
      "execution_count": 49,
      "outputs": [
        {
          "output_type": "stream",
          "name": "stdout",
          "text": [
            "[0, [0, 2, 6, 3, 9, 7, 6]]\n",
            "[1, [14, 0, 9, 11, 7, 10, 4]]\n",
            "[2, [inf, inf, 0, inf, inf, 1, inf]]\n",
            "[3, [3, 5, 3, 0, 12, 4, 9]]\n",
            "[4, [inf, inf, 8, inf, 0, 7, inf]]\n",
            "[5, [inf, inf, 1, inf, inf, 0, inf]]\n",
            "[6, [10, 12, 5, 7, 3, 6, 0]]\n"
          ]
        }
      ]
    },
    {
      "cell_type": "code",
      "source": [
        "print(*APSP_trans(m), sep = \"\\n\")"
      ],
      "metadata": {
        "colab": {
          "base_uri": "https://localhost:8080/"
        },
        "id": "DuTA3cvkWgVC",
        "outputId": "95555def-d10d-4793-ac6e-39b77306249c"
      },
      "execution_count": 50,
      "outputs": [
        {
          "output_type": "stream",
          "name": "stdout",
          "text": [
            "[0, [0, 2, 6, 3, 9, 7, 6]]\n",
            "[1, [14, 0, 9, 11, 7, 10, 4]]\n",
            "[2, [inf, inf, 0, inf, inf, 1, inf]]\n",
            "[3, [3, 5, 3, 0, 12, 4, 9]]\n",
            "[4, [inf, inf, 8, inf, 0, 7, inf]]\n",
            "[5, [inf, inf, 1, inf, inf, 0, inf]]\n",
            "[6, [10, 12, 5, 7, 3, 6, 0]]\n"
          ]
        }
      ]
    },
    {
      "cell_type": "code",
      "source": [
        "adjacency_matrix = np.array([\n",
        "    [0, 0, 0, 0, 0, 0],\n",
        "    [3, 0, 0, 1, 7, 0],\n",
        "    [0, 0, 0, 0, 0, 0],\n",
        "    [2, 0, 5, 0, 0, 0],\n",
        "    [0, 0, 0, 0, 0, 9],\n",
        "    [0, 0, 0, 1, 0, 0]\n",
        "\n",
        "])\n",
        "\n",
        "graph = gb.Matrix.from_dense(adjacency_matrix,missing_value=0)\n",
        "gb.viz.draw(graph)"
      ],
      "metadata": {
        "id": "Bym1p0QZpQW7",
        "colab": {
          "base_uri": "https://localhost:8080/",
          "height": 406
        },
        "outputId": "bebac8c0-93fb-46b0-b3ce-a21493062f55"
      },
      "execution_count": 51,
      "outputs": [
        {
          "output_type": "display_data",
          "data": {
            "text/plain": [
              "<Figure size 640x480 with 1 Axes>"
            ],
            "image/png": "[encoded data removed]"
          },
          "metadata": {}
        }
      ]
    },
    {
      "cell_type": "code",
      "source": [
        "print(SSSP(graph, 1))"
      ],
      "metadata": {
        "colab": {
          "base_uri": "https://localhost:8080/"
        },
        "id": "A71a9LNGIeyR",
        "outputId": "413eb81d-f9ee-4288-b94b-07dbd685777b"
      },
      "execution_count": 52,
      "outputs": [
        {
          "output_type": "stream",
          "name": "stdout",
          "text": [
            "[3, 0, 6, 1, 7, 16]\n"
          ]
        }
      ]
    },
    {
      "cell_type": "code",
      "source": [
        "print(*MSSP(graph, [0, 1]), sep = \"\\n\")"
      ],
      "metadata": {
        "colab": {
          "base_uri": "https://localhost:8080/"
        },
        "id": "qsRCzDgel9NK",
        "outputId": "22274839-f68b-4b2e-f9bc-535931f71a87"
      },
      "execution_count": 54,
      "outputs": [
        {
          "output_type": "stream",
          "name": "stdout",
          "text": [
            "[0, [0, inf, inf, inf, inf, inf]]\n",
            "[1, [3, 0, 6, 1, 7, 16]]\n"
          ]
        }
      ]
    },
    {
      "cell_type": "code",
      "source": [
        "print(*APSP(graph), sep = \"\\n\")"
      ],
      "metadata": {
        "colab": {
          "base_uri": "https://localhost:8080/"
        },
        "id": "PeQJgnkpmKF6",
        "outputId": "c407cdf5-f3c1-4166-b913-0d470a186cf5"
      },
      "execution_count": 55,
      "outputs": [
        {
          "output_type": "stream",
          "name": "stdout",
          "text": [
            "[0, [0, inf, inf, inf, inf, inf]]\n",
            "[1, [3, 0, 6, 1, 7, 16]]\n",
            "[2, [inf, inf, 0, inf, inf, inf]]\n",
            "[3, [2, inf, 5, 0, inf, inf]]\n",
            "[4, [12, inf, 15, 10, 0, 9]]\n",
            "[5, [3, inf, 6, 1, inf, 0]]\n"
          ]
        }
      ]
    },
    {
      "cell_type": "code",
      "source": [
        "print(*APSP_trans(graph), sep ='\\n')"
      ],
      "metadata": {
        "colab": {
          "base_uri": "https://localhost:8080/"
        },
        "id": "7265pQRcmNDl",
        "outputId": "01e76add-bf5e-4f1c-8078-09fbfb12ce7b"
      },
      "execution_count": 56,
      "outputs": [
        {
          "output_type": "stream",
          "name": "stdout",
          "text": [
            "[0, [0, inf, inf, inf, inf, inf]]\n",
            "[1, [3, 0, 6, 1, 7, 16]]\n",
            "[2, [inf, inf, 0, inf, inf, inf]]\n",
            "[3, [2, inf, 5, 0, inf, inf]]\n",
            "[4, [12, inf, 15, 10, 0, 9]]\n",
            "[5, [3, inf, 6, 1, inf, 0]]\n"
          ]
        }
      ]
    },
    {
      "cell_type": "code",
      "source": [
        "adjacency_matrix2 = np.array([\n",
        "    [0, 0, 0, 0, 0],\n",
        "    [6, 0, 0, 1, 3],\n",
        "    [0, 0, 0, 0, 0],\n",
        "    [1, 0, 2, 0, 0],\n",
        "    [0, 1, 0, 4, 0]\n",
        "\n",
        "])\n",
        "\n",
        "graph2 = gb.Matrix.from_dense(adjacency_matrix2,missing_value=0)\n",
        "gb.viz.draw(graph2)"
      ],
      "metadata": {
        "colab": {
          "base_uri": "https://localhost:8080/",
          "height": 406
        },
        "id": "s6Yx7tj46wrg",
        "outputId": "312c172f-2498-44e0-e2c6-d50088944920"
      },
      "execution_count": 57,
      "outputs": [
        {
          "output_type": "display_data",
          "data": {
            "text/plain": [
              "<Figure size 640x480 with 1 Axes>"
            ],
            "image/png": "[encoded data removed]"
          },
          "metadata": {}
        }
      ]
    },
    {
      "cell_type": "code",
      "source": [
        "print(SSSP(graph2, 1))"
      ],
      "metadata": {
        "colab": {
          "base_uri": "https://localhost:8080/"
        },
        "id": "mAHZnV_RnT8W",
        "outputId": "43309ff4-3016-4108-a290-3176ce8a110e"
      },
      "execution_count": 58,
      "outputs": [
        {
          "output_type": "stream",
          "name": "stdout",
          "text": [
            "[2, 0, 3, 1, 3]\n"
          ]
        }
      ]
    },
    {
      "cell_type": "code",
      "source": [
        "print(*MSSP(graph2, [0, 1]), sep ='\\n')"
      ],
      "metadata": {
        "colab": {
          "base_uri": "https://localhost:8080/"
        },
        "outputId": "21048ed4-3728-43cb-db9b-c4b3c1e2bbbe",
        "id": "JkifaYuhnYVf"
      },
      "execution_count": 59,
      "outputs": [
        {
          "output_type": "stream",
          "name": "stdout",
          "text": [
            "[0, [0, inf, inf, inf, inf]]\n",
            "[1, [2, 0, 3, 1, 3]]\n"
          ]
        }
      ]
    },
    {
      "cell_type": "code",
      "source": [
        "print(*APSP(graph2), sep ='\\n')"
      ],
      "metadata": {
        "colab": {
          "base_uri": "https://localhost:8080/"
        },
        "outputId": "e300c7f0-a6fc-41f6-f1f4-452750f77013",
        "id": "FxnsZY1HnYV-"
      },
      "execution_count": 60,
      "outputs": [
        {
          "output_type": "stream",
          "name": "stdout",
          "text": [
            "[0, [0, inf, inf, inf, inf]]\n",
            "[1, [2, 0, 3, 1, 3]]\n",
            "[2, [inf, inf, 0, inf, inf]]\n",
            "[3, [1, inf, 2, 0, inf]]\n",
            "[4, [3, 1, 4, 2, 0]]\n"
          ]
        }
      ]
    },
    {
      "cell_type": "code",
      "source": [
        "print(*APSP_trans(graph2), sep ='\\n')"
      ],
      "metadata": {
        "colab": {
          "base_uri": "https://localhost:8080/"
        },
        "outputId": "25a4ec15-1c08-4d55-9179-80534d5ab8ea",
        "id": "IBY1IBwYnYV-"
      },
      "execution_count": 61,
      "outputs": [
        {
          "output_type": "stream",
          "name": "stdout",
          "text": [
            "[0, [0, inf, inf, inf, inf]]\n",
            "[1, [2, 0, 3, 1, 3]]\n",
            "[2, [inf, inf, 0, inf, inf]]\n",
            "[3, [1, inf, 2, 0, inf]]\n",
            "[4, [3, 1, 4, 2, 0]]\n"
          ]
        }
      ]
    }
  ]
}